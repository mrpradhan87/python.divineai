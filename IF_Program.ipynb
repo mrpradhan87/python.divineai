{
 "cells": [
  {
   "cell_type": "code",
   "execution_count": null,
   "id": "threatened-special",
   "metadata": {},
   "outputs": [],
   "source": [
    "a = 10"
   ]
  },
  {
   "cell_type": "code",
   "execution_count": null,
   "id": "biblical-turtle",
   "metadata": {},
   "outputs": [],
   "source": [
    "10 + 'hi'"
   ]
  },
  {
   "cell_type": "code",
   "execution_count": null,
   "id": "daily-laptop",
   "metadata": {},
   "outputs": [],
   "source": [
    " 2 * 3"
   ]
  },
  {
   "cell_type": "code",
   "execution_count": null,
   "id": "miniature-fisher",
   "metadata": {},
   "outputs": [],
   "source": [
    "'hello' * 2"
   ]
  },
  {
   "cell_type": "code",
   "execution_count": null,
   "id": "median-clone",
   "metadata": {},
   "outputs": [],
   "source": [
    "a='Hello'\n",
    "b='World'\n",
    "a + b\n",
    "a+ ' ' +b"
   ]
  },
  {
   "cell_type": "code",
   "execution_count": null,
   "id": "seeing-trustee",
   "metadata": {},
   "outputs": [],
   "source": []
  },
  {
   "cell_type": "code",
   "execution_count": null,
   "id": "american-builder",
   "metadata": {},
   "outputs": [],
   "source": []
  },
  {
   "cell_type": "code",
   "execution_count": null,
   "id": "severe-satisfaction",
   "metadata": {},
   "outputs": [],
   "source": []
  },
  {
   "cell_type": "code",
   "execution_count": null,
   "id": "needed-tobacco",
   "metadata": {},
   "outputs": [],
   "source": [
    "\"hello\" <= \"helkp\""
   ]
  },
  {
   "cell_type": "code",
   "execution_count": null,
   "id": "accepted-semester",
   "metadata": {},
   "outputs": [],
   "source": [
    "print('Hello World')"
   ]
  },
  {
   "cell_type": "code",
   "execution_count": null,
   "id": "sealed-channels",
   "metadata": {},
   "outputs": [],
   "source": [
    "n = 0 # Initilization\n",
    "while n < 5: # conditional\n",
    "    print('Hello') # body\n",
    "    n+=1 # update"
   ]
  },
  {
   "cell_type": "code",
   "execution_count": null,
   "id": "enormous-coordination",
   "metadata": {},
   "outputs": [],
   "source": [
    "a"
   ]
  },
  {
   "cell_type": "code",
   "execution_count": null,
   "id": "orange-approval",
   "metadata": {},
   "outputs": [],
   "source": [
    "slang = {}\n",
    "slang['cheerio'] = 'goodbye'\n",
    "slang['smashing'] = 'terrific' \n",
    "slang['knackered'] = 'tired'\n",
    "print(slang)"
   ]
  },
  {
   "cell_type": "code",
   "execution_count": null,
   "id": "previous-bracelet",
   "metadata": {},
   "outputs": [],
   "source": [
    "slang = {}\n",
    "slang[1] = 'goodbye'\n",
    "slang[('smashing',6,':')] = 'terrific' \n",
    "slang['knackered'] = ['tired',1, 5]\n",
    "slang[('knackered',1 ,( 1, 3),)] = ['tired',1, 5,[1,(1,2),'Hello']]\n",
    "print(slang)"
   ]
  },
  {
   "cell_type": "code",
   "execution_count": null,
   "id": "falling-element",
   "metadata": {},
   "outputs": [],
   "source": [
    "slang[('knackered',1 ,( 1, 3),)]"
   ]
  },
  {
   "cell_type": "code",
   "execution_count": null,
   "id": "adjustable-narrative",
   "metadata": {},
   "outputs": [],
   "source": [
    "slang['smashing'] = 'awesome'\n",
    "#look up and print the same value. Awesome\n",
    "print(slang['smashing'])\n",
    "del slang['cheerio']\n",
    "print(slang)\n",
    "{'smashing': 'terrific', 'knackered': 'tired'}\n"
   ]
  },
  {
   "cell_type": "code",
   "execution_count": null,
   "id": "incomplete-cloud",
   "metadata": {},
   "outputs": [],
   "source": [
    "print(slang[6])"
   ]
  },
  {
   "cell_type": "code",
   "execution_count": null,
   "id": "utility-retention",
   "metadata": {},
   "outputs": [],
   "source": [
    "print(slang.get(6))"
   ]
  },
  {
   "cell_type": "code",
   "execution_count": null,
   "id": "likely-bible",
   "metadata": {},
   "outputs": [],
   "source": [
    "for num in [1,2,3,4,5]:\n",
    "    print(num**2)"
   ]
  },
  {
   "cell_type": "code",
   "execution_count": null,
   "id": "silver-serum",
   "metadata": {},
   "outputs": [],
   "source": [
    "for num in 'computer':\n",
    "\tprint(num)"
   ]
  },
  {
   "cell_type": "code",
   "execution_count": null,
   "id": "adult-cornwall",
   "metadata": {},
   "outputs": [],
   "source": [
    "for num in range(1,5,2):\n",
    "    print(num**4)"
   ]
  },
  {
   "cell_type": "code",
   "execution_count": null,
   "id": "coated-destination",
   "metadata": {},
   "outputs": [],
   "source": [
    "total = 0\n",
    "prices = [2.50, 3.50, 4.50]\n",
    "for price in prices:\n",
    "    print('Price is', price) \n",
    "    total = total + price\n",
    "print('total is', total)\n",
    "average = total/len(prices) \n",
    "print('avg is', average)\n"
   ]
  },
  {
   "cell_type": "code",
   "execution_count": null,
   "id": "continuous-rubber",
   "metadata": {},
   "outputs": [],
   "source": [
    "import random\n",
    "r1 = random.random() # Gives us a random number from [0.0, 1.0\n",
    "print(r1)\n",
    "r2 = random.choice([1,2,3,4,5]) # Gives us a random choice from a list\n",
    "print(r2)\n",
    "r3 = random.randint(1, 1000) # Gives us a random number in this range\n",
    "print(r3)\n"
   ]
  },
  {
   "cell_type": "code",
   "execution_count": 4,
   "id": "attached-wiring",
   "metadata": {},
   "outputs": [
    {
     "name": "stdout",
     "output_type": "stream",
     "text": [
      "0\n",
      "1\n",
      "2\n",
      "3\n",
      "4\n",
      "5\n",
      "6\n",
      "7\n",
      "8\n",
      "9\n"
     ]
    }
   ],
   "source": [
    "for i in range(10):\n",
    "    print(i)"
   ]
  },
  {
   "cell_type": "code",
   "execution_count": 5,
   "id": "dress-zimbabwe",
   "metadata": {},
   "outputs": [
    {
     "name": "stdout",
     "output_type": "stream",
     "text": [
      "138\n",
      "326\n",
      "702\n",
      "367\n",
      "33\n",
      "423\n",
      "980\n",
      "577\n",
      "946\n",
      "667\n"
     ]
    }
   ],
   "source": [
    "import random\n",
    "for i in range(10):\n",
    "    ticket = random.randint(1, 1000)\n",
    "    print(ticket)"
   ]
  },
  {
   "cell_type": "code",
   "execution_count": null,
   "id": "concerned-glass",
   "metadata": {},
   "outputs": [],
   "source": [
    "for i in range(2005, 2015, 2):\n",
    "    print(i)"
   ]
  },
  {
   "cell_type": "code",
   "execution_count": null,
   "id": "understood-milwaukee",
   "metadata": {},
   "outputs": [],
   "source": [
    "menu_prices = {'Knackered Spam': 0.50, 'Pip pip Spam': 1.50, 'Squidgy Spam': 2.50, 'Smashing Spam': 3.50 }\n",
    "for name, price in menu_prices.items():\n",
    "    print(name, ': $', price)\n",
    "for name in menu_prices.keys():\n",
    "    print(name, ': $', price)\n",
    "for price in menu_prices.values():\n",
    "    print(name, ': $', price)"
   ]
  },
  {
   "cell_type": "code",
   "execution_count": null,
   "id": "signed-newark",
   "metadata": {},
   "outputs": [],
   "source": [
    "menu_prices.items()"
   ]
  },
  {
   "cell_type": "code",
   "execution_count": null,
   "id": "third-anxiety",
   "metadata": {},
   "outputs": [],
   "source": [
    "n = 1\n",
    "num= int(input(\"Enter the Nunber\"))\n",
    "while n<= num :\n",
    "    print(type(n))\n",
    "    n+=1\n"
   ]
  },
  {
   "cell_type": "code",
   "execution_count": null,
   "id": "critical-bunny",
   "metadata": {},
   "outputs": [],
   "source": [
    "line = 'From salman.amir@gmail.com Sat Jan  5 09:14:16 2020'\n",
    "words = line.split()\n",
    "print(words)\n",
    "email = words[1]"
   ]
  },
  {
   "cell_type": "code",
   "execution_count": null,
   "id": "external-entertainment",
   "metadata": {},
   "outputs": [],
   "source": [
    "pieces = email.split('@')\n",
    "print(pieces[1])"
   ]
  },
  {
   "cell_type": "code",
   "execution_count": null,
   "id": "disciplinary-beginning",
   "metadata": {},
   "outputs": [],
   "source": [
    "name=\"hel'lo\" \n",
    "print(name)\n",
    "print(id(name))"
   ]
  },
  {
   "cell_type": "code",
   "execution_count": null,
   "id": "sweet-sleeping",
   "metadata": {},
   "outputs": [],
   "source": [
    "name='hel\"lo' \n",
    "print(name)"
   ]
  },
  {
   "cell_type": "code",
   "execution_count": null,
   "id": "affected-relief",
   "metadata": {},
   "outputs": [],
   "source": [
    "name=\"hel'lo\"\n",
    "print(name)"
   ]
  },
  {
   "cell_type": "code",
   "execution_count": null,
   "id": "rolled-atlas",
   "metadata": {},
   "outputs": [],
   "source": [
    "print(6+3)"
   ]
  },
  {
   "cell_type": "code",
   "execution_count": null,
   "id": "primary-crest",
   "metadata": {},
   "outputs": [],
   "source": [
    "print(\"9' + * 'howru\")"
   ]
  },
  {
   "cell_type": "code",
   "execution_count": null,
   "id": "interpreted-friendly",
   "metadata": {},
   "outputs": [],
   "source": [
    "print(9 *  ' +=howru')"
   ]
  },
  {
   "cell_type": "code",
   "execution_count": null,
   "id": "early-consideration",
   "metadata": {},
   "outputs": [],
   "source": [
    "print('-' * 80)"
   ]
  },
  {
   "cell_type": "code",
   "execution_count": null,
   "id": "american-private",
   "metadata": {},
   "outputs": [],
   "source": [
    "name='hello' \n",
    "name\n",
    "id(name)"
   ]
  },
  {
   "cell_type": "code",
   "execution_count": null,
   "id": "korean-recycling",
   "metadata": {},
   "outputs": [],
   "source": [
    "name +='g'\n",
    "print(name)\n",
    "print(id(name))"
   ]
  },
  {
   "cell_type": "code",
   "execution_count": null,
   "id": "classified-hamburg",
   "metadata": {},
   "outputs": [],
   "source": [
    "9"
   ]
  },
  {
   "cell_type": "code",
   "execution_count": null,
   "id": "intimate-patio",
   "metadata": {},
   "outputs": [],
   "source": [
    "name='Computer'\n",
    "print(id(name))"
   ]
  },
  {
   "cell_type": "code",
   "execution_count": null,
   "id": "expressed-eugene",
   "metadata": {},
   "outputs": [],
   "source": [
    "A = '10'\n",
    "B = A +'1'\n",
    "print(B)\n",
    "C= int(A) + int(B)\n",
    "print(C)"
   ]
  },
  {
   "cell_type": "code",
   "execution_count": null,
   "id": "uniform-vitamin",
   "metadata": {},
   "outputs": [],
   "source": [
    "l=[1,2,'howru',4,5]\n",
    "a=[2]\n",
    "l[2]= 10\n",
    "l"
   ]
  },
  {
   "cell_type": "code",
   "execution_count": null,
   "id": "latin-processor",
   "metadata": {},
   "outputs": [],
   "source": [
    "A={'a':1, 'b':2,'c':3,'d':4}\n",
    "A['b']\n",
    "A['d']"
   ]
  },
  {
   "cell_type": "code",
   "execution_count": null,
   "id": "revised-lecture",
   "metadata": {},
   "outputs": [],
   "source": [
    "a = 200 \n",
    "b = 200 \n",
    "if b < a: \n",
    "    print(\"b is greater than a\")\n",
    "else:\n",
    "    print(\"b is smaller than a\")"
   ]
  },
  {
   "cell_type": "code",
   "execution_count": null,
   "id": "seeing-proportion",
   "metadata": {},
   "outputs": [],
   "source": [
    "x,y =81,8 \n",
    "if(x < y): \n",
    "    st= \"x is less than y\" \n",
    "elif (x == y):\n",
    "    st= \"x is same as y\" \n",
    "else: \n",
    "    st=\"x is greater than y\" \n",
    "print(st)"
   ]
  },
  {
   "cell_type": "code",
   "execution_count": null,
   "id": "green-evolution",
   "metadata": {},
   "outputs": [],
   "source": [
    "List=[1,2,'howru',4,5, [1,'hi'],(1,'fine')]\n",
    "print(List[2][3])"
   ]
  },
  {
   "cell_type": "code",
   "execution_count": null,
   "id": "difficult-driving",
   "metadata": {},
   "outputs": [],
   "source": [
    "List[0]=20 \n",
    "print(List)"
   ]
  },
  {
   "cell_type": "code",
   "execution_count": null,
   "id": "convertible-dancing",
   "metadata": {},
   "outputs": [],
   "source": [
    "List[3]=8 \n",
    "print(List)"
   ]
  },
  {
   "cell_type": "code",
   "execution_count": null,
   "id": "dangerous-seeking",
   "metadata": {},
   "outputs": [],
   "source": [
    "tuple=(1,2,'hi',List)\n",
    "print(tuple)"
   ]
  },
  {
   "cell_type": "code",
   "execution_count": null,
   "id": "electrical-nigeria",
   "metadata": {},
   "outputs": [],
   "source": [
    "print(tuple[2][1])"
   ]
  },
  {
   "cell_type": "code",
   "execution_count": null,
   "id": "integrated-honor",
   "metadata": {},
   "outputs": [],
   "source": [
    "print(tuple[3][2][3])"
   ]
  },
  {
   "cell_type": "code",
   "execution_count": null,
   "id": "internal-ethics",
   "metadata": {},
   "outputs": [],
   "source": [
    "tuple[0]=20 \n",
    "print(tuple)"
   ]
  },
  {
   "cell_type": "code",
   "execution_count": null,
   "id": "prescription-paper",
   "metadata": {},
   "outputs": [],
   "source": [
    "import numpy as np\n",
    "s = pd.Series(np.nan, index= [12,15,43,32,76,45,2,4,65,78])\n",
    "s"
   ]
  },
  {
   "cell_type": "code",
   "execution_count": null,
   "id": "broke-minnesota",
   "metadata": {},
   "outputs": [],
   "source": [
    "s.iloc[:6]"
   ]
  },
  {
   "cell_type": "code",
   "execution_count": null,
   "id": "incorrect-anaheim",
   "metadata": {},
   "outputs": [],
   "source": [
    "s.iloc[16]"
   ]
  },
  {
   "cell_type": "code",
   "execution_count": null,
   "id": "certified-postcard",
   "metadata": {},
   "outputs": [],
   "source": [
    "s.loc[:2]"
   ]
  },
  {
   "cell_type": "code",
   "execution_count": null,
   "id": "olympic-lesson",
   "metadata": {},
   "outputs": [],
   "source": [
    "# Read a dataset with missing values\n",
    "import pandas as pd\n",
    "flights = pd.read_csv(\"https://raw.githubusercontent.com/PacktPublishing/Pandas-Cookbook/master/data/flights.csv\")"
   ]
  },
  {
   "cell_type": "code",
   "execution_count": null,
   "id": "atomic-georgia",
   "metadata": {},
   "outputs": [],
   "source": [
    "flights.head()"
   ]
  },
  {
   "cell_type": "code",
   "execution_count": null,
   "id": "collectible-dollar",
   "metadata": {},
   "outputs": [],
   "source": [
    "df1 = flights.groupby(\"AIRLINE\")\n",
    "df1.head(20)"
   ]
  },
  {
   "cell_type": "code",
   "execution_count": null,
   "id": "absent-guess",
   "metadata": {},
   "outputs": [],
   "source": [
    "df_f = flights[ flights['ORG_AIR'] == 'DEN' ]\n",
    "df_f.head(5)"
   ]
  },
  {
   "cell_type": "code",
   "execution_count": null,
   "id": "viral-spanish",
   "metadata": {},
   "outputs": [],
   "source": [
    "#Select rows by their labels:\n",
    "df3 = flights.loc[10:20,['AIRLINE','ORG_AIR','DEST_AIR']]\n",
    "df3.head(15)"
   ]
  },
  {
   "cell_type": "code",
   "execution_count": null,
   "id": "painful-inside",
   "metadata": {},
   "outputs": [],
   "source": [
    "df4 = flights.iloc[26:30,[0, 3, 4, 5]]\n",
    "df4.head()"
   ]
  },
  {
   "cell_type": "code",
   "execution_count": null,
   "id": "accepting-zimbabwe",
   "metadata": {},
   "outputs": [],
   "source": [
    "df4 = flights.iloc[26:30,[-2]]\n",
    "df4.head()"
   ]
  },
  {
   "cell_type": "code",
   "execution_count": null,
   "id": "numeric-celebrity",
   "metadata": {},
   "outputs": [],
   "source": [
    "df_sub = flights[ flights['DEP_DELAY'] > 1000 ]\n",
    "df_sub.head()"
   ]
  },
  {
   "cell_type": "code",
   "execution_count": null,
   "id": "documentary-sterling",
   "metadata": {},
   "outputs": [],
   "source": [
    "# Select the rows that have at least one missing value\n",
    "flights[flights.isnull().any(axis=1)].head(200)"
   ]
  },
  {
   "cell_type": "code",
   "execution_count": null,
   "id": "modern-radical",
   "metadata": {},
   "outputs": [],
   "source": [
    "flights.shape"
   ]
  },
  {
   "cell_type": "code",
   "execution_count": null,
   "id": "lesbian-switch",
   "metadata": {},
   "outputs": [],
   "source": [
    "flights.size"
   ]
  },
  {
   "cell_type": "code",
   "execution_count": null,
   "id": "dirty-saturday",
   "metadata": {},
   "outputs": [],
   "source": [
    "flights.tail()"
   ]
  },
  {
   "cell_type": "code",
   "execution_count": null,
   "id": "champion-temple",
   "metadata": {},
   "outputs": [],
   "source": [
    "flights.dropna(how='all')"
   ]
  },
  {
   "cell_type": "code",
   "execution_count": null,
   "id": "impressive-dinner",
   "metadata": {},
   "outputs": [],
   "source": [
    "flights[['DEP_DELAY','ARR_DELAY']].agg(['min','mean','max'])"
   ]
  },
  {
   "cell_type": "code",
   "execution_count": null,
   "id": "subjective-nomination",
   "metadata": {},
   "outputs": [],
   "source": [
    "flights.describe()"
   ]
  },
  {
   "cell_type": "code",
   "execution_count": null,
   "id": "pregnant-scholarship",
   "metadata": {},
   "outputs": [],
   "source": [
    "import seaborn as sns\n",
    "sns.pairplot(flights)"
   ]
  },
  {
   "cell_type": "code",
   "execution_count": null,
   "id": "equipped-lyric",
   "metadata": {},
   "outputs": [],
   "source": [
    "d = {\"age\":43, (\"hello\",\"world\"):1, \"flag\": [\"red\",\"white\",\"blue\"]}"
   ]
  },
  {
   "cell_type": "code",
   "execution_count": null,
   "id": "measured-piano",
   "metadata": {},
   "outputs": [],
   "source": [
    "fruit = 'Banana'\n",
    "fruit[0] = 'b'"
   ]
  },
  {
   "cell_type": "code",
   "execution_count": null,
   "id": "introductory-institute",
   "metadata": {},
   "outputs": [],
   "source": [
    "x = fruit.lower()"
   ]
  },
  {
   "cell_type": "code",
   "execution_count": null,
   "id": "pressing-channels",
   "metadata": {},
   "outputs": [],
   "source": [
    "id(fruit)"
   ]
  },
  {
   "cell_type": "code",
   "execution_count": null,
   "id": "minor-integral",
   "metadata": {},
   "outputs": [],
   "source": [
    "id(x)"
   ]
  },
  {
   "cell_type": "code",
   "execution_count": null,
   "id": "right-integration",
   "metadata": {},
   "outputs": [],
   "source": [
    "n = 1\n",
    "num= int(input('Enter the Number'))\n",
    "while n<= num :\n",
    "    print(n)\n",
    "    n+=1\n"
   ]
  },
  {
   "cell_type": "code",
   "execution_count": null,
   "id": "super-parking",
   "metadata": {},
   "outputs": [],
   "source": [
    "print('Before')\n",
    "for value in [9, 41, 12, 3, 74, 15] :\n",
    "    if value > 20: \n",
    "        print('Large number',value)\n",
    "print('After')\n"
   ]
  },
  {
   "cell_type": "code",
   "execution_count": null,
   "id": "entitled-chuck",
   "metadata": {},
   "outputs": [],
   "source": [
    "a = 2.88888888888888888888888888888\n",
    "a"
   ]
  },
  {
   "cell_type": "code",
   "execution_count": null,
   "id": "capable-management",
   "metadata": {},
   "outputs": [],
   "source": [
    "str = 'jjjjjjjjjgfvgbbuvytcf '\n",
    "len(str)"
   ]
  },
  {
   "cell_type": "code",
   "execution_count": null,
   "id": "suited-facial",
   "metadata": {},
   "outputs": [],
   "source": [
    "name='hello' \n",
    "#name*2+='g' # Not Possible \n",
    "name='Computer'\n",
    "print(name)\n",
    "print('hi')\n",
    "name"
   ]
  },
  {
   "cell_type": "code",
   "execution_count": null,
   "id": "about-captain",
   "metadata": {},
   "outputs": [],
   "source": [
    "A = '10'\n",
    "B = A +'1'\n",
    "C= int(A) + int(B)\n",
    "print(C)"
   ]
  },
  {
   "cell_type": "code",
   "execution_count": null,
   "id": "usual-lloyd",
   "metadata": {},
   "outputs": [],
   "source": []
  },
  {
   "cell_type": "code",
   "execution_count": null,
   "id": "biblical-thesis",
   "metadata": {},
   "outputs": [],
   "source": [
    "smallest = None\n",
    "for value in [9, 41, 12, 3, 3, 74, 15] : \n",
    "     if smallest is None : \n",
    "         smallest = value   \n",
    "     elif value < smallest : \n",
    "         smallest = value  \n",
    "     elif value == smallest : \n",
    "         print('duplicate') \n",
    "     print(smallest, value)\n",
    "print('After', smallest)"
   ]
  },
  {
   "cell_type": "code",
   "execution_count": null,
   "id": "smoking-sheffield",
   "metadata": {},
   "outputs": [],
   "source": [
    "def average( prices):\n",
    "    total = 0 \n",
    "    for price in prices: \n",
    "        total = total + price \n",
    "    avg = total/len(prices)\n",
    "    return avg\n",
    "numbers = [1,2,3,4,5]\n",
    "my_average = average(numbers)\n",
    "print(my_average) "
   ]
  },
  {
   "cell_type": "code",
   "execution_count": null,
   "id": "muslim-induction",
   "metadata": {},
   "outputs": [],
   "source": [
    "def average(numbers):\n",
    "    total = 0\n",
    "    for num in numbers:\n",
    "        total = total + num\n",
    "    avg = total/len(numbers)\n",
    "    return avg\n",
    "def fun():\n",
    "    prices = [29, 21, 55, 10]\n",
    "    result = average(prices)\n",
    "    print(order_goal)\n",
    "    print(result)\n",
    "order_goal = 25\n",
    "fun()"
   ]
  },
  {
   "cell_type": "code",
   "execution_count": null,
   "id": "declared-chess",
   "metadata": {},
   "outputs": [],
   "source": [
    "def average(numbers, lst):\n",
    "    total = 0\n",
    "    for num in numbers:\n",
    "        total = total + num\n",
    "    avg = total/len(lst)\n",
    "    return avg, total\n",
    "def TEST():\n",
    "    prices = [20, 30]\n",
    "    price = [200, 300, 400, 100]\n",
    "    total1, avg1 = average(prices,price)\n",
    "    print(order_goal)\n",
    "    print('avg',avg1)\n",
    "    print('total',total1)\n",
    "TEST()\n",
    "order_goal = 25"
   ]
  },
  {
   "cell_type": "code",
   "execution_count": null,
   "id": "diverse-jackson",
   "metadata": {},
   "outputs": [],
   "source": [
    "s = 'hi'\n",
    "print(s*3)"
   ]
  },
  {
   "cell_type": "code",
   "execution_count": null,
   "id": "similar-manor",
   "metadata": {},
   "outputs": [],
   "source": [
    "i =1 \n",
    "i+=1\n",
    "i"
   ]
  },
  {
   "cell_type": "code",
   "execution_count": null,
   "id": "similar-tuning",
   "metadata": {},
   "outputs": [],
   "source": [
    "a = ['spam', 'eggs', 100, 1234, 2*2]\n",
    "a[-4:4]"
   ]
  },
  {
   "cell_type": "code",
   "execution_count": null,
   "id": "thrown-jimmy",
   "metadata": {},
   "outputs": [],
   "source": [
    "a[2] = a[2] + 23\n",
    "a[0:2] = [1,12]\n",
    "a"
   ]
  },
  {
   "cell_type": "code",
   "execution_count": null,
   "id": "rental-consequence",
   "metadata": {},
   "outputs": [],
   "source": [
    "a[0] = []\n",
    "len(a)\n",
    "a"
   ]
  },
  {
   "cell_type": "code",
   "execution_count": null,
   "id": "broken-particular",
   "metadata": {},
   "outputs": [],
   "source": [
    "print(d[\"flag\"][2][2])"
   ]
  },
  {
   "cell_type": "code",
   "execution_count": null,
   "id": "related-region",
   "metadata": {},
   "outputs": [],
   "source": [
    "print(d.get(\"flagssss\"))"
   ]
  },
  {
   "cell_type": "code",
   "execution_count": null,
   "id": "south-creation",
   "metadata": {},
   "outputs": [],
   "source": [
    "print(d.values())"
   ]
  },
  {
   "cell_type": "code",
   "execution_count": null,
   "id": "manufactured-speed",
   "metadata": {},
   "outputs": [],
   "source": [
    "my_list = [1, 2, 3, 4] \n",
    "your_list = [4, 3, 2, 1] \n",
    "his_list = [1, 2, 3, 4]\n",
    "print(my_list == your_list) \n",
    "print(my_list == his_list)"
   ]
  },
  {
   "cell_type": "code",
   "execution_count": null,
   "id": "processed-liberty",
   "metadata": {},
   "outputs": [],
   "source": [
    "my_dict = {1:1, 2:2, 3:3, 4:4} \n",
    "your_dict = {4:4, 3:3, 2:2, 1:1}\n",
    "print(my_dict == your_dict)"
   ]
  },
  {
   "cell_type": "code",
   "execution_count": null,
   "id": "vocal-method",
   "metadata": {},
   "outputs": [],
   "source": [
    "for num in [1,2,3,4,5]:\n",
    "    print(num**2)"
   ]
  },
  {
   "cell_type": "code",
   "execution_count": null,
   "id": "vocal-following",
   "metadata": {},
   "outputs": [],
   "source": [
    "for num in 'computer':\n",
    "    print(num)"
   ]
  },
  {
   "cell_type": "code",
   "execution_count": null,
   "id": "above-disabled",
   "metadata": {},
   "outputs": [],
   "source": [
    "d = {\"age\":[(1,2,['hello', 2 ,6,('how : r u')])], (\"hello\",\"world\"):1,\n",
    "     \"flag\": [\"red\",\"white\",\"blue\"], (\"1\",\"2\"): \"hi\"}"
   ]
  },
  {
   "cell_type": "code",
   "execution_count": null,
   "id": "posted-johnston",
   "metadata": {},
   "outputs": [],
   "source": [
    "for key,value in d.items():\n",
    "    print('key: ',key,'-','value:',value)"
   ]
  },
  {
   "cell_type": "code",
   "execution_count": null,
   "id": "owned-melissa",
   "metadata": {},
   "outputs": [],
   "source": [
    "total = 0\n",
    "prices = [2.50, 3.50, 4.50]\n",
    "for price in prices:\n",
    "    print('Price is', price) \n",
    "    total = total + price\n",
    "print('total is', total)\n",
    "average = total/len(prices) \n",
    "print('avg is', average)"
   ]
  },
  {
   "cell_type": "code",
   "execution_count": null,
   "id": "younger-virgin",
   "metadata": {},
   "outputs": [],
   "source": [
    "import random\n",
    "r1 = random.random() # Gives us a random number from [0.0, 1.0]\n",
    "print(r1)\n",
    "r2 = random.choice([1,2,3,4,5]) # Gives us a random choice from a list\n",
    "print(r2)\n",
    "r3 = random.randint(1, 1000) # Gives us a random number in this range\n",
    "print(r3)\n"
   ]
  },
  {
   "cell_type": "code",
   "execution_count": null,
   "id": "unlike-breathing",
   "metadata": {},
   "outputs": [],
   "source": [
    "for keys,items in d.items():\n",
    "    print(keys)\n",
    "    print(items)    "
   ]
  },
  {
   "cell_type": "code",
   "execution_count": null,
   "id": "extended-anthropology",
   "metadata": {},
   "outputs": [],
   "source": [
    "a = '12'"
   ]
  },
  {
   "cell_type": "code",
   "execution_count": null,
   "id": "noticed-incentive",
   "metadata": {},
   "outputs": [],
   "source": [
    "print(type(a))"
   ]
  },
  {
   "cell_type": "code",
   "execution_count": null,
   "id": "fixed-salem",
   "metadata": {},
   "outputs": [],
   "source": [
    "print(a)"
   ]
  },
  {
   "cell_type": "code",
   "execution_count": null,
   "id": "frequent-sunday",
   "metadata": {},
   "outputs": [],
   "source": [
    "print(id(a))"
   ]
  },
  {
   "cell_type": "code",
   "execution_count": null,
   "id": "molecular-excellence",
   "metadata": {},
   "outputs": [],
   "source": [
    "a = str (a) + ' hello'"
   ]
  },
  {
   "cell_type": "code",
   "execution_count": null,
   "id": "tough-script",
   "metadata": {},
   "outputs": [],
   "source": [
    "print(id(a))"
   ]
  },
  {
   "cell_type": "code",
   "execution_count": null,
   "id": "looking-bunch",
   "metadata": {},
   "outputs": [],
   "source": []
  },
  {
   "cell_type": "code",
   "execution_count": 37,
   "id": "commercial-flower",
   "metadata": {},
   "outputs": [
    {
     "name": "stdout",
     "output_type": "stream",
     "text": [
      "<class 'int'>\n",
      "<class 'float'>\n",
      "10.0\n",
      "<class 'float'>\n",
      "21.0\n",
      "<class 'float'>\n"
     ]
    }
   ],
   "source": [
    "# Python automatically converts\n",
    "# a to int\n",
    "a = 7\n",
    "print(type(a)) \n",
    "# Python automatically converts\n",
    "# b to float\n",
    "b = 3.0\n",
    "print(type(b)) \n",
    "# Python automatically converts\n",
    "# c to float as it is a float addition\n",
    "c = a + b\n",
    "print(c)\n",
    "print(type(c)) \n",
    "# Python automatically converts\n",
    "# d to float as it is a float multiplication\n",
    "d = a * b\n",
    "print(d)\n",
    "print(type(d))"
   ]
  },
  {
   "cell_type": "code",
   "execution_count": null,
   "id": "modern-archive",
   "metadata": {},
   "outputs": [],
   "source": []
  },
  {
   "cell_type": "code",
   "execution_count": 39,
   "id": "systematic-moscow",
   "metadata": {},
   "outputs": [
    {
     "name": "stdout",
     "output_type": "stream",
     "text": [
      "257 ms ± 19.2 ms per loop (mean ± std. dev. of 7 runs, 1 loop each)\n",
      "1.51 ms ± 86.7 µs per loop (mean ± std. dev. of 7 runs, 1000 loops each)\n"
     ]
    }
   ],
   "source": [
    "import numpy as np\n",
    "B = np.random.rand(1000000)\n",
    "%timeit sum(B)\n",
    "%timeit np.sum(B)"
   ]
  },
  {
   "cell_type": "code",
   "execution_count": 40,
   "id": "intimate-middle",
   "metadata": {},
   "outputs": [
    {
     "name": "stdout",
     "output_type": "stream",
     "text": [
      "500161.3728299807\n",
      "500161.3728299807\n",
      "500161.3728299807\n",
      "500161.3728299807\n",
      "500161.3728299807\n",
      "500161.3728299807\n",
      "500161.3728299807\n",
      "500161.3728299807\n",
      "285 ms ± 15.8 ms per loop (mean ± std. dev. of 7 runs, 1 loop each)\n"
     ]
    }
   ],
   "source": [
    "%%timeit\n",
    "S=0\n",
    "for x in B:\n",
    "    S = S + x\n",
    "print(S)"
   ]
  },
  {
   "cell_type": "code",
   "execution_count": null,
   "id": "desirable-silence",
   "metadata": {},
   "outputs": [],
   "source": [
    "price = input(\"Enter the price: \")\n",
    "price = float(price) \n",
    "print('Price =', price)\n",
    "print('Not a number!')"
   ]
  },
  {
   "cell_type": "code",
   "execution_count": null,
   "id": "compressed-pacific",
   "metadata": {},
   "outputs": [],
   "source": [
    "price = input(\"Enter the price: \")\n",
    "try:\n",
    "    price = float(price) \n",
    "    print('Price =', price)\n",
    "except ValueError:\n",
    "    print('Not a number!')"
   ]
  },
  {
   "cell_type": "code",
   "execution_count": null,
   "id": "obvious-employee",
   "metadata": {},
   "outputs": [],
   "source": [
    "price = input(\"Enter the price: \")\n",
    "print(type(price))\n",
    "price = int(price) \n",
    "print('Price =', price)\n",
    "print(type(price))"
   ]
  },
  {
   "cell_type": "code",
   "execution_count": null,
   "id": "abandoned-makeup",
   "metadata": {},
   "outputs": [],
   "source": [
    "c = 'hi' + str(10)\n",
    "print(c)"
   ]
  },
  {
   "cell_type": "code",
   "execution_count": null,
   "id": "alternate-latter",
   "metadata": {},
   "outputs": [],
   "source": [
    "type(c)"
   ]
  },
  {
   "cell_type": "code",
   "execution_count": null,
   "id": "featured-student",
   "metadata": {},
   "outputs": [],
   "source": [
    "len(c)"
   ]
  },
  {
   "cell_type": "code",
   "execution_count": null,
   "id": "brave-monroe",
   "metadata": {},
   "outputs": [],
   "source": [
    "import numpy as np\n",
    "B = np.random.rand(1000000)\n",
    "%timeit sum(B)"
   ]
  },
  {
   "cell_type": "code",
   "execution_count": null,
   "id": "quick-nickel",
   "metadata": {},
   "outputs": [],
   "source": [
    "%timeit np.sum(B)"
   ]
  },
  {
   "cell_type": "code",
   "execution_count": null,
   "id": "recent-large",
   "metadata": {},
   "outputs": [],
   "source": [
    "%%timeit\n",
    "S=0\n",
    "for x in B:\n",
    "    S+=x"
   ]
  },
  {
   "cell_type": "code",
   "execution_count": null,
   "id": "intimate-vehicle",
   "metadata": {},
   "outputs": [],
   "source": [
    "a = 33 \n",
    "b = 200 \n",
    "if b > a:\n",
    "    print(\"b is greater than a\")\n",
    "print(a)\n",
    "print(b)"
   ]
  },
  {
   "cell_type": "code",
   "execution_count": null,
   "id": "announced-provider",
   "metadata": {},
   "outputs": [],
   "source": [
    "x,y =12,10 \n",
    "if(x < y): \n",
    "    st= \"x is less than y\" \n",
    "elif (x == y):\n",
    "    st= \"x is same as y\" \n",
    "else: \n",
    "    st=\"x is greater than y\" \n",
    "print(st)\n"
   ]
  },
  {
   "cell_type": "code",
   "execution_count": null,
   "id": "egyptian-harrison",
   "metadata": {},
   "outputs": [],
   "source": [
    "list=[1,2,100, 3, 55, 4,73,5]\n",
    "for i in list:\n",
    "    print(i)\n",
    "    \n",
    "print(i)"
   ]
  },
  {
   "cell_type": "code",
   "execution_count": null,
   "id": "proud-driving",
   "metadata": {},
   "outputs": [],
   "source": [
    "newList = list.sort()\n",
    "print(newList)"
   ]
  },
  {
   "cell_type": "code",
   "execution_count": null,
   "id": "marked-spectrum",
   "metadata": {},
   "outputs": [],
   "source": [
    "print(list)"
   ]
  },
  {
   "cell_type": "code",
   "execution_count": null,
   "id": "aerial-zealand",
   "metadata": {},
   "outputs": [],
   "source": [
    "list1 =  sorted(list)\n",
    "print(list1)"
   ]
  },
  {
   "cell_type": "code",
   "execution_count": null,
   "id": "specialized-jaguar",
   "metadata": {},
   "outputs": [],
   "source": [
    "while (i<10) :\n",
    "    print(i)\n",
    "    i = i+1"
   ]
  },
  {
   "cell_type": "code",
   "execution_count": null,
   "id": "sharp-german",
   "metadata": {},
   "outputs": [],
   "source": [
    "range(3,7)"
   ]
  },
  {
   "cell_type": "code",
   "execution_count": null,
   "id": "aboriginal-registrar",
   "metadata": {},
   "outputs": [],
   "source": [
    "li = range(13,7) \n",
    "li"
   ]
  },
  {
   "cell_type": "code",
   "execution_count": null,
   "id": "junior-drove",
   "metadata": {},
   "outputs": [],
   "source": [
    "print(li)"
   ]
  },
  {
   "cell_type": "code",
   "execution_count": null,
   "id": "circular-tourism",
   "metadata": {},
   "outputs": [],
   "source": [
    "for i in range(3,17,4):\n",
    "    print(i)"
   ]
  },
  {
   "cell_type": "code",
   "execution_count": null,
   "id": "animal-philosophy",
   "metadata": {},
   "outputs": [],
   "source": [
    "for i in range(10):\n",
    "    print(i)"
   ]
  },
  {
   "cell_type": "code",
   "execution_count": null,
   "id": "reserved-offset",
   "metadata": {},
   "outputs": [],
   "source": [
    "for i in range(10):\n",
    "    i=i+1\n",
    "    print(i)"
   ]
  },
  {
   "cell_type": "code",
   "execution_count": null,
   "id": "foreign-baptist",
   "metadata": {},
   "outputs": [],
   "source": [
    "li = [1,2,3,4,5,6,7]\n",
    "j = 0\n",
    "for i in li:\n",
    "    print(i)"
   ]
  },
  {
   "cell_type": "code",
   "execution_count": null,
   "id": "structural-subcommittee",
   "metadata": {},
   "outputs": [],
   "source": [
    "print(j)\n",
    "print(type(j))"
   ]
  },
  {
   "cell_type": "code",
   "execution_count": null,
   "id": "cleared-employee",
   "metadata": {},
   "outputs": [],
   "source": [
    "length = len(li)\n",
    "while length >= 3:\n",
    "    print(length)\n",
    "    if length <= 5:\n",
    "        break\n",
    "    length = length - 1        "
   ]
  },
  {
   "cell_type": "code",
   "execution_count": null,
   "id": "leading-slovakia",
   "metadata": {},
   "outputs": [],
   "source": [
    "length = len(li)\n",
    "while length >= 3:    \n",
    "    length = length - 1\n",
    "    print(length)\n",
    "    if length >= 5:\n",
    "        continue    "
   ]
  },
  {
   "cell_type": "code",
   "execution_count": null,
   "id": "capable-reynolds",
   "metadata": {},
   "outputs": [],
   "source": [
    "length = len(li)\n",
    "while length >= 3:    \n",
    "    length = length - 1\n",
    "    print(length)\n",
    "    if length >= 5:\n",
    "        break    "
   ]
  },
  {
   "cell_type": "code",
   "execution_count": null,
   "id": "continuous-knight",
   "metadata": {},
   "outputs": [],
   "source": [
    "li = [1,2,3,4,5,6,7]\n",
    "for i in li:\n",
    "    print(i)"
   ]
  },
  {
   "cell_type": "code",
   "execution_count": null,
   "id": "sunrise-paragraph",
   "metadata": {},
   "outputs": [],
   "source": [
    "li = [1,2,3,4,5,6]\n",
    "j = 0\n",
    "for i in li:\n",
    "    print('outer loop')\n",
    "    for i in li:\n",
    "        print('inner loop')\n",
    "        j=j+1\n",
    "        if j > 20:\n",
    "            break\n",
    "        print('inner',j)\n",
    "    print('outer',j)"
   ]
  },
  {
   "cell_type": "code",
   "execution_count": null,
   "id": "synthetic-maple",
   "metadata": {},
   "outputs": [],
   "source": [
    "li = [1,2,3,4,5,6]\n",
    "j = 0\n",
    "for i in li:\n",
    "    print('outer loop')\n",
    "    for i in li:\n",
    "        print('inner loop')\n",
    "        j=j+1\n",
    "        if j > 20:\n",
    "            continue\n",
    "        print('inner',j)\n",
    "    print('outer',j)"
   ]
  },
  {
   "cell_type": "code",
   "execution_count": null,
   "id": "gentle-mathematics",
   "metadata": {},
   "outputs": [],
   "source": [
    "li = [1,2,3,4,5,6,7]\n",
    "j = 0\n",
    "for i in li:\n",
    "    for i in li:\n",
    "        j=j+i\n",
    "    print(j)\n",
    "print(j)"
   ]
  },
  {
   "cell_type": "code",
   "execution_count": null,
   "id": "brilliant-hurricane",
   "metadata": {},
   "outputs": [],
   "source": [
    "x = int(input(\"x? \"))\n",
    "y = int(input(\"y? \"))\n",
    "if x < y: \n",
    "    print('x is less than y') \n",
    "elif x > y: \n",
    "    print('x is greater than y') \n",
    "else: \n",
    "    print('x and y are equal')\n"
   ]
  },
  {
   "cell_type": "code",
   "execution_count": null,
   "id": "strong-beauty",
   "metadata": {},
   "outputs": [],
   "source": [
    "highest = 0\n",
    "for value in [9, 41, 12, 3, 74, 15] :\n",
    "    if value > highest:\n",
    "        highest = value \n",
    "print('highest' , highest)"
   ]
  },
  {
   "cell_type": "code",
   "execution_count": null,
   "id": "processed-archives",
   "metadata": {},
   "outputs": [],
   "source": [
    "highest = 0\n",
    "for value in [9, 41, 12, 3, 74, 15] :\n",
    "    if value < highest:\n",
    "        highest = value \n",
    "print('highest' , highest)"
   ]
  },
  {
   "cell_type": "code",
   "execution_count": null,
   "id": "random-brooks",
   "metadata": {},
   "outputs": [],
   "source": [
    "list = [9, 41, 12, 3, 74, 15]\n",
    "print(list[4])"
   ]
  },
  {
   "cell_type": "code",
   "execution_count": null,
   "id": "needed-community",
   "metadata": {},
   "outputs": [],
   "source": [
    "list = [9, 41, 12, 3, 74, 15]\n",
    "smallest = list[0]\n",
    "for value in list :\n",
    "    if value < smallest:\n",
    "        smallest = value        \n",
    "print('smallest' , smallest)"
   ]
  },
  {
   "cell_type": "code",
   "execution_count": null,
   "id": "accomplished-twist",
   "metadata": {},
   "outputs": [],
   "source": [
    "smallest = None\n",
    "for value in [9, 41, 12, 3, 74, 15,103,305, 7 , 102.5, 167.44,1] : \n",
    "     if smallest is None : \n",
    "         smallest = value   \n",
    "     elif value < smallest : \n",
    "         smallest = value   \n",
    "     #print(smallest, value)\n",
    "print('After', smallest)"
   ]
  },
  {
   "cell_type": "code",
   "execution_count": null,
   "id": "premium-strategy",
   "metadata": {},
   "outputs": [],
   "source": [
    "name = \"P. Diddy\"\n",
    "name[2]"
   ]
  },
  {
   "cell_type": "code",
   "execution_count": null,
   "id": "accepting-truth",
   "metadata": {},
   "outputs": [],
   "source": [
    "aa='SLICEOFSPAM'\n",
    "aa[0], aa[-2]"
   ]
  },
  {
   "cell_type": "code",
   "execution_count": null,
   "id": "automotive-partner",
   "metadata": {},
   "outputs": [],
   "source": [
    "aa[1:5] , aa[-1:] "
   ]
  },
  {
   "cell_type": "code",
   "execution_count": null,
   "id": "faced-carnival",
   "metadata": {},
   "outputs": [],
   "source": [
    "aa[::3]"
   ]
  },
  {
   "cell_type": "code",
   "execution_count": null,
   "id": "victorian-sewing",
   "metadata": {},
   "outputs": [],
   "source": [
    "aa[::-1] , aa[::-3]"
   ]
  },
  {
   "cell_type": "code",
   "execution_count": null,
   "id": "occupied-event",
   "metadata": {},
   "outputs": [],
   "source": [
    "aa[:-1]"
   ]
  },
  {
   "cell_type": "code",
   "execution_count": null,
   "id": "mounted-brush",
   "metadata": {},
   "outputs": [],
   "source": [
    "hw = 'hello world' \n",
    "hw = hw.upper(), hw.title()"
   ]
  },
  {
   "cell_type": "code",
   "execution_count": null,
   "id": "decent-northeast",
   "metadata": {},
   "outputs": [],
   "source": [
    "print(hw)"
   ]
  },
  {
   "cell_type": "code",
   "execution_count": null,
   "id": "honest-forward",
   "metadata": {},
   "outputs": [],
   "source": [
    "type(hw)"
   ]
  },
  {
   "cell_type": "code",
   "execution_count": null,
   "id": "excess-bargain",
   "metadata": {},
   "outputs": [],
   "source": [
    "hw = 'hello world' \n",
    "hw = hw.upper()\n",
    "hw.isdigit(), hw.islower()"
   ]
  },
  {
   "cell_type": "code",
   "execution_count": null,
   "id": "atmospheric-crest",
   "metadata": {},
   "outputs": [],
   "source": [
    "s = '''And me too!\n",
    "though I am much longer \n",
    "than the others :)'''\n",
    "a= 'And me too!\\nthough I am much longer\\nthan the others :)'\n",
    "print(s)\n",
    "print(a)"
   ]
  },
  {
   "cell_type": "code",
   "execution_count": null,
   "id": "reliable-professional",
   "metadata": {},
   "outputs": [],
   "source": [
    "s = \"Hello\\t \\\"there\\nHow are you?\"\n",
    "print(s)"
   ]
  },
  {
   "cell_type": "code",
   "execution_count": null,
   "id": "coated-brief",
   "metadata": {},
   "outputs": [],
   "source": [
    "\"jell\" < \"jela\""
   ]
  },
  {
   "cell_type": "code",
   "execution_count": null,
   "id": "nearby-diameter",
   "metadata": {},
   "outputs": [],
   "source": [
    "def average(numbers):\n",
    "    total = 0\n",
    "    for num in numbers:\n",
    "        total = total + num\n",
    "    avg = total/len(numbers)\n",
    "    return avg, total\n",
    "def main():\n",
    "    prices = [29, 21, 55, 10, 12,16,190,347,1024, 9403, 125, 341942, 20394, 109236, 3470, 5732, 1293, 10039,5783]\n",
    "    result, tot = average(prices)\n",
    "    print(tot)\n",
    "    print(result)\n",
    "main()"
   ]
  },
  {
   "cell_type": "code",
   "execution_count": null,
   "id": "regular-temperature",
   "metadata": {},
   "outputs": [],
   "source": [
    "# write one generic function to find the nth highest in a list\n",
    "# Assignment"
   ]
  },
  {
   "cell_type": "code",
   "execution_count": null,
   "id": "aboriginal-findings",
   "metadata": {},
   "outputs": [],
   "source": [
    "def main():\n",
    "    prices = [29, 21, 55, 10]\n",
    "    result = average(prices)\n",
    "    print(var1)\n",
    "    print(result)\n",
    "def average(numbers):\n",
    "    total = 0\n",
    "    for num in numbers:\n",
    "        total = total + num\n",
    "    avg = total/len(numbers)\n",
    "    return avg\n",
    "var1 = 25\n",
    "main()"
   ]
  },
  {
   "cell_type": "code",
   "execution_count": null,
   "id": "received-termination",
   "metadata": {},
   "outputs": [],
   "source": [
    "while True :\n",
    "    print('hi')"
   ]
  },
  {
   "cell_type": "code",
   "execution_count": null,
   "id": "spiritual-viking",
   "metadata": {},
   "outputs": [],
   "source": [
    "a = 10\n",
    "while a < 20 :\n",
    "    a += 1\n",
    "    if(a == 15):\n",
    "        continue    \n",
    "    print(a)\n",
    "    "
   ]
  },
  {
   "cell_type": "code",
   "execution_count": null,
   "id": "clear-justice",
   "metadata": {},
   "outputs": [],
   "source": []
  }
 ],
 "metadata": {
  "kernelspec": {
   "display_name": "Python 3",
   "language": "python",
   "name": "python3"
  },
  "language_info": {
   "codemirror_mode": {
    "name": "ipython",
    "version": 3
   },
   "file_extension": ".py",
   "mimetype": "text/x-python",
   "name": "python",
   "nbconvert_exporter": "python",
   "pygments_lexer": "ipython3",
   "version": "3.7.10"
  }
 },
 "nbformat": 4,
 "nbformat_minor": 5
}
